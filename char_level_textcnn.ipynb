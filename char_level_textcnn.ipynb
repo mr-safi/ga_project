{
  "cells": [
    {
      "cell_type": "markdown",
      "metadata": {
        "id": "EUc3zXBsIHAs"
      },
      "source": [
        "#**preprocessing**"
      ]
    },
    {
      "cell_type": "code",
      "execution_count": null,
      "metadata": {
        "id": "81x1YDddGeKj"
      },
      "outputs": [],
      "source": [
        "import numpy as np\n",
        "import pandas as pd\n",
        "import tensorflow as tf\n",
        "from sklearn.model_selection import train_test_split\n",
        "from sklearn.metrics import classification_report\n",
        "from sklearn.metrics import confusion_matrix, accuracy_score, precision_score, recall_score"
      ]
    },
    {
      "cell_type": "code",
      "execution_count": null,
      "metadata": {
        "colab": {
          "base_uri": "https://localhost:8080/",
          "height": 206
        },
        "id": "E47p-jeIGv88",
        "outputId": "9ab0adfa-934a-4697-ce81-aa37b3d4aa94"
      },
      "outputs": [
        {
          "output_type": "execute_result",
          "data": {
            "text/plain": [
              "                                            Sentence  Label\n",
              "0  <li><a href=\"/wiki/File:Socrates.png\" class=\"i...      0\n",
              "1               <tt onmouseover=\"alert(1)\">test</tt>      1\n",
              "2  \\t </span> <span class=\"reference-text\">Steeri...      0\n",
              "3  \\t </span> <span class=\"reference-text\"><cite ...      0\n",
              "4  \\t </span>. <a href=\"/wiki/Digital_object_iden...      0"
            ],
            "text/html": [
              "\n",
              "  <div id=\"df-4840a48e-828d-4734-81a2-d8f14099c6ca\" class=\"colab-df-container\">\n",
              "    <div>\n",
              "<style scoped>\n",
              "    .dataframe tbody tr th:only-of-type {\n",
              "        vertical-align: middle;\n",
              "    }\n",
              "\n",
              "    .dataframe tbody tr th {\n",
              "        vertical-align: top;\n",
              "    }\n",
              "\n",
              "    .dataframe thead th {\n",
              "        text-align: right;\n",
              "    }\n",
              "</style>\n",
              "<table border=\"1\" class=\"dataframe\">\n",
              "  <thead>\n",
              "    <tr style=\"text-align: right;\">\n",
              "      <th></th>\n",
              "      <th>Sentence</th>\n",
              "      <th>Label</th>\n",
              "    </tr>\n",
              "  </thead>\n",
              "  <tbody>\n",
              "    <tr>\n",
              "      <th>0</th>\n",
              "      <td>&lt;li&gt;&lt;a href=\"/wiki/File:Socrates.png\" class=\"i...</td>\n",
              "      <td>0</td>\n",
              "    </tr>\n",
              "    <tr>\n",
              "      <th>1</th>\n",
              "      <td>&lt;tt onmouseover=\"alert(1)\"&gt;test&lt;/tt&gt;</td>\n",
              "      <td>1</td>\n",
              "    </tr>\n",
              "    <tr>\n",
              "      <th>2</th>\n",
              "      <td>\\t &lt;/span&gt; &lt;span class=\"reference-text\"&gt;Steeri...</td>\n",
              "      <td>0</td>\n",
              "    </tr>\n",
              "    <tr>\n",
              "      <th>3</th>\n",
              "      <td>\\t &lt;/span&gt; &lt;span class=\"reference-text\"&gt;&lt;cite ...</td>\n",
              "      <td>0</td>\n",
              "    </tr>\n",
              "    <tr>\n",
              "      <th>4</th>\n",
              "      <td>\\t &lt;/span&gt;. &lt;a href=\"/wiki/Digital_object_iden...</td>\n",
              "      <td>0</td>\n",
              "    </tr>\n",
              "  </tbody>\n",
              "</table>\n",
              "</div>\n",
              "    <div class=\"colab-df-buttons\">\n",
              "\n",
              "  <div class=\"colab-df-container\">\n",
              "    <button class=\"colab-df-convert\" onclick=\"convertToInteractive('df-4840a48e-828d-4734-81a2-d8f14099c6ca')\"\n",
              "            title=\"Convert this dataframe to an interactive table.\"\n",
              "            style=\"display:none;\">\n",
              "\n",
              "  <svg xmlns=\"http://www.w3.org/2000/svg\" height=\"24px\" viewBox=\"0 -960 960 960\">\n",
              "    <path d=\"M120-120v-720h720v720H120Zm60-500h600v-160H180v160Zm220 220h160v-160H400v160Zm0 220h160v-160H400v160ZM180-400h160v-160H180v160Zm440 0h160v-160H620v160ZM180-180h160v-160H180v160Zm440 0h160v-160H620v160Z\"/>\n",
              "  </svg>\n",
              "    </button>\n",
              "\n",
              "  <style>\n",
              "    .colab-df-container {\n",
              "      display:flex;\n",
              "      gap: 12px;\n",
              "    }\n",
              "\n",
              "    .colab-df-convert {\n",
              "      background-color: #E8F0FE;\n",
              "      border: none;\n",
              "      border-radius: 50%;\n",
              "      cursor: pointer;\n",
              "      display: none;\n",
              "      fill: #1967D2;\n",
              "      height: 32px;\n",
              "      padding: 0 0 0 0;\n",
              "      width: 32px;\n",
              "    }\n",
              "\n",
              "    .colab-df-convert:hover {\n",
              "      background-color: #E2EBFA;\n",
              "      box-shadow: 0px 1px 2px rgba(60, 64, 67, 0.3), 0px 1px 3px 1px rgba(60, 64, 67, 0.15);\n",
              "      fill: #174EA6;\n",
              "    }\n",
              "\n",
              "    .colab-df-buttons div {\n",
              "      margin-bottom: 4px;\n",
              "    }\n",
              "\n",
              "    [theme=dark] .colab-df-convert {\n",
              "      background-color: #3B4455;\n",
              "      fill: #D2E3FC;\n",
              "    }\n",
              "\n",
              "    [theme=dark] .colab-df-convert:hover {\n",
              "      background-color: #434B5C;\n",
              "      box-shadow: 0px 1px 3px 1px rgba(0, 0, 0, 0.15);\n",
              "      filter: drop-shadow(0px 1px 2px rgba(0, 0, 0, 0.3));\n",
              "      fill: #FFFFFF;\n",
              "    }\n",
              "  </style>\n",
              "\n",
              "    <script>\n",
              "      const buttonEl =\n",
              "        document.querySelector('#df-4840a48e-828d-4734-81a2-d8f14099c6ca button.colab-df-convert');\n",
              "      buttonEl.style.display =\n",
              "        google.colab.kernel.accessAllowed ? 'block' : 'none';\n",
              "\n",
              "      async function convertToInteractive(key) {\n",
              "        const element = document.querySelector('#df-4840a48e-828d-4734-81a2-d8f14099c6ca');\n",
              "        const dataTable =\n",
              "          await google.colab.kernel.invokeFunction('convertToInteractive',\n",
              "                                                    [key], {});\n",
              "        if (!dataTable) return;\n",
              "\n",
              "        const docLinkHtml = 'Like what you see? Visit the ' +\n",
              "          '<a target=\"_blank\" href=https://colab.research.google.com/notebooks/data_table.ipynb>data table notebook</a>'\n",
              "          + ' to learn more about interactive tables.';\n",
              "        element.innerHTML = '';\n",
              "        dataTable['output_type'] = 'display_data';\n",
              "        await google.colab.output.renderOutput(dataTable, element);\n",
              "        const docLink = document.createElement('div');\n",
              "        docLink.innerHTML = docLinkHtml;\n",
              "        element.appendChild(docLink);\n",
              "      }\n",
              "    </script>\n",
              "  </div>\n",
              "\n",
              "\n",
              "<div id=\"df-75dcec65-f49e-4429-acbb-cdbc3a1fb67e\">\n",
              "  <button class=\"colab-df-quickchart\" onclick=\"quickchart('df-75dcec65-f49e-4429-acbb-cdbc3a1fb67e')\"\n",
              "            title=\"Suggest charts\"\n",
              "            style=\"display:none;\">\n",
              "\n",
              "<svg xmlns=\"http://www.w3.org/2000/svg\" height=\"24px\"viewBox=\"0 0 24 24\"\n",
              "     width=\"24px\">\n",
              "    <g>\n",
              "        <path d=\"M19 3H5c-1.1 0-2 .9-2 2v14c0 1.1.9 2 2 2h14c1.1 0 2-.9 2-2V5c0-1.1-.9-2-2-2zM9 17H7v-7h2v7zm4 0h-2V7h2v10zm4 0h-2v-4h2v4z\"/>\n",
              "    </g>\n",
              "</svg>\n",
              "  </button>\n",
              "\n",
              "<style>\n",
              "  .colab-df-quickchart {\n",
              "      --bg-color: #E8F0FE;\n",
              "      --fill-color: #1967D2;\n",
              "      --hover-bg-color: #E2EBFA;\n",
              "      --hover-fill-color: #174EA6;\n",
              "      --disabled-fill-color: #AAA;\n",
              "      --disabled-bg-color: #DDD;\n",
              "  }\n",
              "\n",
              "  [theme=dark] .colab-df-quickchart {\n",
              "      --bg-color: #3B4455;\n",
              "      --fill-color: #D2E3FC;\n",
              "      --hover-bg-color: #434B5C;\n",
              "      --hover-fill-color: #FFFFFF;\n",
              "      --disabled-bg-color: #3B4455;\n",
              "      --disabled-fill-color: #666;\n",
              "  }\n",
              "\n",
              "  .colab-df-quickchart {\n",
              "    background-color: var(--bg-color);\n",
              "    border: none;\n",
              "    border-radius: 50%;\n",
              "    cursor: pointer;\n",
              "    display: none;\n",
              "    fill: var(--fill-color);\n",
              "    height: 32px;\n",
              "    padding: 0;\n",
              "    width: 32px;\n",
              "  }\n",
              "\n",
              "  .colab-df-quickchart:hover {\n",
              "    background-color: var(--hover-bg-color);\n",
              "    box-shadow: 0 1px 2px rgba(60, 64, 67, 0.3), 0 1px 3px 1px rgba(60, 64, 67, 0.15);\n",
              "    fill: var(--button-hover-fill-color);\n",
              "  }\n",
              "\n",
              "  .colab-df-quickchart-complete:disabled,\n",
              "  .colab-df-quickchart-complete:disabled:hover {\n",
              "    background-color: var(--disabled-bg-color);\n",
              "    fill: var(--disabled-fill-color);\n",
              "    box-shadow: none;\n",
              "  }\n",
              "\n",
              "  .colab-df-spinner {\n",
              "    border: 2px solid var(--fill-color);\n",
              "    border-color: transparent;\n",
              "    border-bottom-color: var(--fill-color);\n",
              "    animation:\n",
              "      spin 1s steps(1) infinite;\n",
              "  }\n",
              "\n",
              "  @keyframes spin {\n",
              "    0% {\n",
              "      border-color: transparent;\n",
              "      border-bottom-color: var(--fill-color);\n",
              "      border-left-color: var(--fill-color);\n",
              "    }\n",
              "    20% {\n",
              "      border-color: transparent;\n",
              "      border-left-color: var(--fill-color);\n",
              "      border-top-color: var(--fill-color);\n",
              "    }\n",
              "    30% {\n",
              "      border-color: transparent;\n",
              "      border-left-color: var(--fill-color);\n",
              "      border-top-color: var(--fill-color);\n",
              "      border-right-color: var(--fill-color);\n",
              "    }\n",
              "    40% {\n",
              "      border-color: transparent;\n",
              "      border-right-color: var(--fill-color);\n",
              "      border-top-color: var(--fill-color);\n",
              "    }\n",
              "    60% {\n",
              "      border-color: transparent;\n",
              "      border-right-color: var(--fill-color);\n",
              "    }\n",
              "    80% {\n",
              "      border-color: transparent;\n",
              "      border-right-color: var(--fill-color);\n",
              "      border-bottom-color: var(--fill-color);\n",
              "    }\n",
              "    90% {\n",
              "      border-color: transparent;\n",
              "      border-bottom-color: var(--fill-color);\n",
              "    }\n",
              "  }\n",
              "</style>\n",
              "\n",
              "  <script>\n",
              "    async function quickchart(key) {\n",
              "      const quickchartButtonEl =\n",
              "        document.querySelector('#' + key + ' button');\n",
              "      quickchartButtonEl.disabled = true;  // To prevent multiple clicks.\n",
              "      quickchartButtonEl.classList.add('colab-df-spinner');\n",
              "      try {\n",
              "        const charts = await google.colab.kernel.invokeFunction(\n",
              "            'suggestCharts', [key], {});\n",
              "      } catch (error) {\n",
              "        console.error('Error during call to suggestCharts:', error);\n",
              "      }\n",
              "      quickchartButtonEl.classList.remove('colab-df-spinner');\n",
              "      quickchartButtonEl.classList.add('colab-df-quickchart-complete');\n",
              "    }\n",
              "    (() => {\n",
              "      let quickchartButtonEl =\n",
              "        document.querySelector('#df-75dcec65-f49e-4429-acbb-cdbc3a1fb67e button');\n",
              "      quickchartButtonEl.style.display =\n",
              "        google.colab.kernel.accessAllowed ? 'block' : 'none';\n",
              "    })();\n",
              "  </script>\n",
              "</div>\n",
              "    </div>\n",
              "  </div>\n"
            ]
          },
          "metadata": {},
          "execution_count": 6
        }
      ],
      "source": [
        "df = pd.read_csv('XSS_dataset.csv', index_col = 0)\n",
        "df.head()"
      ]
    },
    {
      "cell_type": "code",
      "execution_count": null,
      "metadata": {
        "id": "NVumplhVHBCe"
      },
      "outputs": [],
      "source": [
        "def data2char_index(X, max_len):\n",
        "    alphabet = \" abcdefghijklmnopqrstuvwxyz0123456789-,;.!?:'\\\"/\\\\|_@#$%^&*~`+-=<>()[]{}\"\n",
        "    result = []\n",
        "    for data in X:\n",
        "        mat = []\n",
        "        for ch in data:\n",
        "            if ch not in alphabet:\n",
        "                continue\n",
        "            mat.append(alphabet.index(ch))\n",
        "        result.append(mat)\n",
        "    X_char = tf.keras.preprocessing.sequence.pad_sequences(np.array(result, dtype=object), padding='post',\n",
        "                                                           truncating='post', maxlen=max_len)\n",
        "    return X_char"
      ]
    },
    {
      "cell_type": "code",
      "execution_count": null,
      "metadata": {
        "id": "vf77nZ4qHIoa"
      },
      "outputs": [],
      "source": [
        "data = df['Sentence'].values\n",
        "label = df['Label'].values\n",
        "\n",
        "trainX, testX, y_train, y_test = train_test_split(data, label, test_size=0.2, random_state=42)\n",
        "\n",
        "x_train = data2char_index(trainX, max_len=1000)\n",
        "x_test = data2char_index(testX, max_len=1000)"
      ]
    },
    {
      "cell_type": "code",
      "execution_count": null,
      "metadata": {
        "colab": {
          "base_uri": "https://localhost:8080/"
        },
        "id": "1Fnklv89HMeY",
        "outputId": "def64c60-956e-4432-a384-1883c2e9dece"
      },
      "outputs": [
        {
          "output_type": "execute_result",
          "data": {
            "text/plain": [
              "(10944, 1000)"
            ]
          },
          "metadata": {},
          "execution_count": 9
        }
      ],
      "source": [
        "x_train.shape"
      ]
    },
    {
      "cell_type": "code",
      "execution_count": null,
      "metadata": {
        "colab": {
          "base_uri": "https://localhost:8080/"
        },
        "id": "IPz-gn_OtyDG",
        "outputId": "d88bb236-92a0-46f7-efe3-1206f16a586e"
      },
      "outputs": [
        {
          "output_type": "stream",
          "name": "stdout",
          "text": [
            "(10944, 1000) (2736, 1000)\n"
          ]
        }
      ],
      "source": [
        "x_train = tf.reshape(x_train, (10944,1000))\n",
        "x_test = tf.reshape(x_test, (2736,1000))\n",
        "\n",
        "print(x_train.shape,x_test.shape)"
      ]
    },
    {
      "cell_type": "markdown",
      "metadata": {
        "id": "PQlQbveFIPQP"
      },
      "source": [
        "#**learning**"
      ]
    },
    {
      "cell_type": "code",
      "execution_count": null,
      "metadata": {
        "id": "jkru4KdyHUM1"
      },
      "outputs": [],
      "source": [
        "def get_charcnn_model(max_len):\n",
        "    main_input = tf.keras.layers.Input(shape=(max_len,))\n",
        "\n",
        "    embedder = tf.keras.layers.Embedding(\n",
        "        input_dim=70,\n",
        "        output_dim=80,\n",
        "        input_length=max_len,\n",
        "        trainable=False\n",
        "    )\n",
        "    embed = embedder(main_input)\n",
        "\n",
        "    cnn1 = tf.keras.layers.Conv1D(16, 5, padding='same', strides=1, activation='relu')(embed)\n",
        "    cnn1 = tf.keras.layers.MaxPooling1D(pool_size=12)(cnn1)\n",
        "\n",
        "    # cnn2 = tf.keras.layers.Conv1D(32, 10, padding='same', strides=1, activation='relu')(embed)\n",
        "    # cnn2 = tf.keras.layers.MaxPooling1D(pool_size=11)(cnn2)\n",
        "\n",
        "    cnn3 = tf.keras.layers.Conv1D(16, 10, padding='same', strides=1, activation='relu')(embed)\n",
        "    cnn3 = tf.keras.layers.MaxPooling1D(pool_size=11)(cnn3)\n",
        "\n",
        "    cnn = tf.keras.layers.concatenate([cnn1,cnn3], axis=1)\n",
        "    flat = tf.keras.layers.Flatten()(cnn)\n",
        "    drop = tf.keras.layers.Dropout(0.3)(flat)\n",
        "    dense1 = tf.keras.layers.Dense(512, activation='relu')(drop)\n",
        "    dense2 = tf.keras.layers.Dense(128, activation='relu')(dense1)\n",
        "    main_output = tf.keras.layers.Dense(1, activation='sigmoid')(dense2)\n",
        "    model = tf.keras.Model(inputs=main_input, outputs=main_output)\n",
        "    return model"
      ]
    },
    {
      "cell_type": "code",
      "execution_count": null,
      "metadata": {
        "colab": {
          "base_uri": "https://localhost:8080/"
        },
        "id": "NVstSa_xHecY",
        "outputId": "80e947b0-5dba-422a-aadf-675a88954730"
      },
      "outputs": [
        {
          "output_type": "stream",
          "name": "stdout",
          "text": [
            "Model: \"model\"\n",
            "__________________________________________________________________________________________________\n",
            " Layer (type)                Output Shape                 Param #   Connected to                  \n",
            "==================================================================================================\n",
            " input_1 (InputLayer)        [(None, 1000)]               0         []                            \n",
            "                                                                                                  \n",
            " embedding (Embedding)       (None, 1000, 80)             5600      ['input_1[0][0]']             \n",
            "                                                                                                  \n",
            " conv1d (Conv1D)             (None, 1000, 16)             6416      ['embedding[0][0]']           \n",
            "                                                                                                  \n",
            " conv1d_1 (Conv1D)           (None, 1000, 16)             12816     ['embedding[0][0]']           \n",
            "                                                                                                  \n",
            " max_pooling1d (MaxPooling1  (None, 83, 16)               0         ['conv1d[0][0]']              \n",
            " D)                                                                                               \n",
            "                                                                                                  \n",
            " max_pooling1d_1 (MaxPoolin  (None, 90, 16)               0         ['conv1d_1[0][0]']            \n",
            " g1D)                                                                                             \n",
            "                                                                                                  \n",
            " concatenate (Concatenate)   (None, 173, 16)              0         ['max_pooling1d[0][0]',       \n",
            "                                                                     'max_pooling1d_1[0][0]']     \n",
            "                                                                                                  \n",
            " flatten (Flatten)           (None, 2768)                 0         ['concatenate[0][0]']         \n",
            "                                                                                                  \n",
            " dropout (Dropout)           (None, 2768)                 0         ['flatten[0][0]']             \n",
            "                                                                                                  \n",
            " dense (Dense)               (None, 512)                  1417728   ['dropout[0][0]']             \n",
            "                                                                                                  \n",
            " dense_1 (Dense)             (None, 128)                  65664     ['dense[0][0]']               \n",
            "                                                                                                  \n",
            " dense_2 (Dense)             (None, 1)                    129       ['dense_1[0][0]']             \n",
            "                                                                                                  \n",
            "==================================================================================================\n",
            "Total params: 1508353 (5.75 MB)\n",
            "Trainable params: 1502753 (5.73 MB)\n",
            "Non-trainable params: 5600 (21.88 KB)\n",
            "__________________________________________________________________________________________________\n"
          ]
        }
      ],
      "source": [
        "model = get_charcnn_model(max_len=1000)\n",
        "model.compile(\n",
        "    loss='binary_crossentropy',\n",
        "    optimizer='adam',\n",
        "    metrics=['accuracy']\n",
        ")\n",
        "model.summary()"
      ]
    },
    {
      "cell_type": "code",
      "execution_count": null,
      "metadata": {
        "colab": {
          "base_uri": "https://localhost:8080/"
        },
        "id": "Rbnln0qaHh_h",
        "outputId": "0a7c764d-ae7a-414e-9223-ace132e608ac"
      },
      "outputs": [
        {
          "output_type": "stream",
          "name": "stdout",
          "text": [
            "Epoch 1/10\n",
            "86/86 [==============================] - 14s 19ms/step - loss: 0.2072 - accuracy: 0.9065 - val_loss: 0.0429 - val_accuracy: 0.9861\n",
            "Epoch 2/10\n",
            "86/86 [==============================] - 1s 14ms/step - loss: 0.0243 - accuracy: 0.9922 - val_loss: 0.0129 - val_accuracy: 0.9960\n",
            "Epoch 3/10\n",
            "86/86 [==============================] - 1s 14ms/step - loss: 0.0078 - accuracy: 0.9977 - val_loss: 0.0098 - val_accuracy: 0.9956\n",
            "Epoch 4/10\n",
            "86/86 [==============================] - 2s 20ms/step - loss: 0.0063 - accuracy: 0.9976 - val_loss: 0.0076 - val_accuracy: 0.9967\n",
            "Epoch 5/10\n",
            "86/86 [==============================] - 1s 16ms/step - loss: 0.0036 - accuracy: 0.9990 - val_loss: 0.0082 - val_accuracy: 0.9971\n",
            "Epoch 6/10\n",
            "86/86 [==============================] - 1s 16ms/step - loss: 0.0026 - accuracy: 0.9992 - val_loss: 0.0044 - val_accuracy: 0.9974\n",
            "Epoch 7/10\n",
            "86/86 [==============================] - 1s 14ms/step - loss: 0.0022 - accuracy: 0.9993 - val_loss: 0.0032 - val_accuracy: 0.9989\n",
            "Epoch 8/10\n",
            "86/86 [==============================] - 1s 14ms/step - loss: 0.0025 - accuracy: 0.9991 - val_loss: 0.0023 - val_accuracy: 0.9993\n",
            "Epoch 9/10\n",
            "86/86 [==============================] - 1s 14ms/step - loss: 9.1581e-04 - accuracy: 0.9997 - val_loss: 0.0030 - val_accuracy: 0.9993\n",
            "Epoch 10/10\n",
            "86/86 [==============================] - 1s 14ms/step - loss: 0.0018 - accuracy: 0.9995 - val_loss: 0.0013 - val_accuracy: 0.9996\n"
          ]
        }
      ],
      "source": [
        "batch_size = 128\n",
        "num_epoch = 10\n",
        "model_log = model.fit(\n",
        "    x_train,\n",
        "    y_train,\n",
        "    batch_size=batch_size,\n",
        "    epochs=num_epoch,\n",
        "    verbose=1,\n",
        "    validation_data=(x_test, y_test)\n",
        ")"
      ]
    },
    {
      "cell_type": "code",
      "execution_count": null,
      "metadata": {
        "colab": {
          "base_uri": "https://localhost:8080/"
        },
        "id": "TPMEY6vtHycf",
        "outputId": "94ce6018-179a-4ff6-8b57-4d67961af7d7"
      },
      "outputs": [
        {
          "output_type": "stream",
          "name": "stdout",
          "text": [
            "86/86 [==============================] - 0s 3ms/step\n",
            "tf.Tensor(\n",
            "[[62 22  1 ...  0  0  0]\n",
            " [ 0 62 46 ...  0  0  0]\n",
            " [ 0 62 46 ...  0  0  0]\n",
            " ...\n",
            " [ 0 62 46 ...  0  0  0]\n",
            " [ 0 62 46 ...  0  0  0]\n",
            " [62  8 18 ...  0  0  0]], shape=(2736, 1000), dtype=int32)\n"
          ]
        }
      ],
      "source": [
        "pred = model.predict(x_test)\n",
        "y_pred = np.int64(pred>0.5)\n",
        "print(x_test)"
      ]
    },
    {
      "cell_type": "code",
      "execution_count": null,
      "metadata": {
        "colab": {
          "base_uri": "https://localhost:8080/"
        },
        "id": "XGkEMWEZH2Gr",
        "outputId": "ac21ceea-7ce0-440f-c6b3-756aff9bcec9"
      },
      "outputs": [
        {
          "output_type": "stream",
          "name": "stdout",
          "text": [
            " Accuracy : 0.9996345029239766 \n",
            " Precision : 1.0 \n",
            " Recall : 0.9993108201240524\n"
          ]
        }
      ],
      "source": [
        "accuracy = accuracy_score(y_test, y_pred)\n",
        "precision = precision_score(y_test, y_pred)\n",
        "recall = recall_score(y_test, y_pred)\n",
        "print(\" Accuracy : {0} \\n Precision : {1} \\n Recall : {2}\".format(accuracy, precision, recall))"
      ]
    },
    {
      "cell_type": "markdown",
      "metadata": {
        "id": "Zw0bEwUBy1NU"
      },
      "source": [
        "#**plot**\n"
      ]
    },
    {
      "cell_type": "code",
      "execution_count": null,
      "metadata": {
        "colab": {
          "base_uri": "https://localhost:8080/",
          "height": 961
        },
        "id": "jX81_ztky0i1",
        "outputId": "757f022f-3df4-4a89-eedd-b41394181170"
      },
      "outputs": [
        {
          "output_type": "stream",
          "name": "stdout",
          "text": [
            "['Solarize_Light2', '_classic_test_patch', '_mpl-gallery', '_mpl-gallery-nogrid', 'bmh', 'classic', 'dark_background', 'fast', 'fivethirtyeight', 'ggplot', 'grayscale', 'seaborn-v0_8', 'seaborn-v0_8-bright', 'seaborn-v0_8-colorblind', 'seaborn-v0_8-dark', 'seaborn-v0_8-dark-palette', 'seaborn-v0_8-darkgrid', 'seaborn-v0_8-deep', 'seaborn-v0_8-muted', 'seaborn-v0_8-notebook', 'seaborn-v0_8-paper', 'seaborn-v0_8-pastel', 'seaborn-v0_8-poster', 'seaborn-v0_8-talk', 'seaborn-v0_8-ticks', 'seaborn-v0_8-white', 'seaborn-v0_8-whitegrid', 'tableau-colorblind10']\n"
          ]
        },
        {
          "output_type": "display_data",
          "data": {
            "text/plain": [
              "<Figure size 640x480 with 1 Axes>"
            ],
            "image/png": "[encoded data removed]"
          },
          "metadata": {}
        },
        {
          "output_type": "display_data",
          "data": {
            "text/plain": [
              "<Figure size 640x480 with 0 Axes>"
            ]
          },
          "metadata": {}
        },
        {
          "output_type": "display_data",
          "data": {
            "text/plain": [
              "<Figure size 640x480 with 1 Axes>"
            ],
            "image/png": "[encoded data removed]"
          },
          "metadata": {}
        },
        {
          "output_type": "display_data",
          "data": {
            "text/plain": [
              "<Figure size 640x480 with 0 Axes>"
            ]
          },
          "metadata": {}
        }
      ],
      "source": [
        "import matplotlib.pyplot as plt\n",
        "print(plt.style.available)\n",
        "\n",
        "plt.style.use('ggplot')\n",
        "histr=model_log.history\n",
        "accuracies = histr['accuracy']\n",
        "valacc = histr['val_accuracy']\n",
        "loss = histr['loss']\n",
        "vallos = histr['val_loss']\n",
        "\n",
        "# print(accuracies)\n",
        "# print(valacc)\n",
        "# print(loss)\n",
        "\n",
        "plt.figure()\n",
        "plt.xlabel(' Epoch ')\n",
        "plt.ylabel(' Loss ')\n",
        "plt.plot(loss,label='train')\n",
        "plt.plot(vallos,label='val')\n",
        "plt.legend()\n",
        "plt.show()\n",
        "plt.savefig('loss.png')\n",
        "\n",
        "\n",
        "plt.figure()\n",
        "plt.xlabel(' Epoch ')\n",
        "plt.ylabel(' Accuracy ')\n",
        "plt.plot(accuracies,label='train')\n",
        "plt.plot(valacc,label='val')\n",
        "plt.legend()\n",
        "plt.show()\n",
        "plt.savefig('accu.png')\n"
      ]
    },
    {
      "cell_type": "markdown",
      "source": [],
      "metadata": {
        "id": "snVlNXV4nrcy"
      }
    },
    {
      "cell_type": "code",
      "source": [
        "# prede = model.predict(x_test)\n",
        "# y_pred = np.int64(pred>0.5)\n",
        "print(x_test[:8])\n",
        "predee = model.predict(x_test[:8])\n",
        "y_pred = np.int64(predee>0.5)\n",
        "print(predee)\n",
        "print('%f' % predee[3])\n"
      ],
      "metadata": {
        "colab": {
          "base_uri": "https://localhost:8080/"
        },
        "id": "eLLeINqHUoXV",
        "outputId": "1e2335c6-d88b-4bd3-822c-b99aba2f2089"
      },
      "execution_count": null,
      "outputs": [
        {
          "output_type": "stream",
          "name": "stdout",
          "text": [
            "tf.Tensor(\n",
            "[[62 22  1 ...  0  0  0]\n",
            " [ 0 62 46 ...  0  0  0]\n",
            " [ 0 62 46 ...  0  0  0]\n",
            " ...\n",
            " [62 13  1 ...  0  0  0]\n",
            " [62  1 16 ...  0  0  0]\n",
            " [62 16 63 ...  0  0  0]], shape=(8, 1000), dtype=int32)\n",
            "1/1 [==============================] - 0s 94ms/step\n",
            "[[9.9999988e-01]\n",
            " [7.6337872e-17]\n",
            " [1.4728908e-05]\n",
            " [9.9999976e-01]\n",
            " [3.9469868e-13]\n",
            " [9.9999988e-01]\n",
            " [1.0000000e+00]\n",
            " [2.7114441e-17]]\n",
            "1.000000\n"
          ]
        }
      ]
    },
    {
      "cell_type": "markdown",
      "metadata": {
        "id": "-3hHz4p8L68u"
      },
      "source": [
        "# *test*"
      ]
    },
    {
      "cell_type": "code",
      "execution_count": null,
      "metadata": {
        "id": "Zf30Hm-AIDDq"
      },
      "outputs": [],
      "source": [
        "# loss_object = tf.keras.losses.CategoricalCrossentropy()\n",
        "loss_object = tf.keras.losses.BinaryCrossentropy()\n",
        "\n",
        "def create_adversarial_pattern(input_pattern, input_label):\n",
        "  with tf.GradientTape() as tape:\n",
        "    tape.watch(input_pattern)\n",
        "    print(\"------\",input_pattern.shape,input_pattern)\n",
        "    prediction = model(input_pattern)\n",
        "    print(\"......\",prediction)\n",
        "    loss = loss_object(input_label, prediction)\n",
        "    print(\"loass\", loss)\n",
        "\n",
        "  # Get the gradients of the loss w.r.t to the input image.\n",
        "  gradient = tape.gradient(loss, input_pattern)\n",
        "  # Get the sign of the gradients to create the perturbation\n",
        "  signed_grad = tf.sign(gradient)\n",
        "  return signed_grad"
      ]
    },
    {
      "cell_type": "code",
      "execution_count": null,
      "metadata": {
        "id": "jYU1OthCiPiB"
      },
      "outputs": [],
      "source": [
        "# labrador_retriever_index = 208\n",
        "# label = tf.reshape(label, (1, image_probs.shape[-1]))\n",
        "# label = tf.reshape(y_test,[1,2736])\n",
        "\n",
        "label = y_train[0]\n",
        "label = tf.reshape(label, (1, ))\n",
        "print(\"----------label\")\n",
        "print(type(label))\n",
        "print(label.shape)\n",
        "print(label)\n",
        "# input_patt.\n",
        "\n",
        "print(\"--------image\")\n",
        "\n",
        "image = x_test[0]\n",
        "image = tf.reshape(image, (1, 1000))\n",
        "\n",
        "print(type(image))\n",
        "print(image.shape)\n",
        "# print(image)\n",
        "\n",
        "\n",
        "# print(input_pattern[0].shape , label[0].shape)\n",
        "# label\n",
        "perturbations = create_adversarial_pattern(image, label)\n",
        "plt.imshow(perturbations[0] * 0.5 + 0.5);  # To change [-1, 1] to [0,1]"
      ]
    },
    {
      "cell_type": "markdown",
      "metadata": {
        "id": "vnqvT56eH8RC"
      },
      "source": [
        "# #**fgsm Attack**"
      ]
    },
    {
      "cell_type": "code",
      "execution_count": null,
      "metadata": {
        "id": "6YqY_S3BkIu1"
      },
      "outputs": [],
      "source": [
        "device = torch.device(\"cuda\" if (True and torch.cuda.is_available()) else \"cpu\")\n",
        "import torch.nn.functional as F"
      ]
    },
    {
      "cell_type": "code",
      "execution_count": null,
      "metadata": {
        "colab": {
          "base_uri": "https://localhost:8080/"
        },
        "id": "SZ3xNhwcg3QE",
        "outputId": "fd88b093-336c-430a-af4b-30095e936c26"
      },
      "outputs": [
        {
          "name": "stdout",
          "output_type": "stream",
          "text": [
            "(10944, 1000) --- (10944,)\n",
            "<class 'tensorflow.python.framework.ops.EagerTensor'> --- <class 'numpy.ndarray'>\n"
          ]
        }
      ],
      "source": [
        "print(x_train.shape,\"---\",y_train.shape)\n",
        "print(type(x_train),\"---\",type(y_train))\n"
      ]
    },
    {
      "cell_type": "code",
      "execution_count": null,
      "metadata": {
        "id": "GIs9ib6OLzqQ"
      },
      "outputs": [],
      "source": [
        "def fgsm_attack(input,epsilon,data_grad):\n",
        "  pert_out = input + epsilon*data_grad.sign()\n",
        "  pert_out = torch.clamp(pert_out, 0, 1)\n",
        "  return pert_out\n",
        "\n",
        "def ifgsm_attack(input,epsilon,data_grad):\n",
        "  iter = 10\n",
        "  alpha = epsilon/iter\n",
        "  pert_out = input\n",
        "  for i in range(iter-1):\n",
        "    pert_out = pert_out + alpha*data_grad.sign()\n",
        "    pert_out = torch.clamp(pert_out, 0, 1)\n",
        "    if torch.norm((pert_out-input),p=float('inf')) > epsilon:\n",
        "      break\n",
        "  return pert_out\n",
        "\n",
        "def mifgsm_attack(input,epsilon,data_grad):\n",
        "  iter=10\n",
        "  decay_factor=1.0\n",
        "  pert_out = input\n",
        "  alpha = epsilon/iter\n",
        "  g=0\n",
        "  for i in range(iter-1):\n",
        "    g = decay_factor*g + data_grad/torch.norm(data_grad,p=1)\n",
        "    pert_out = pert_out + alpha*torch.sign(g)\n",
        "    pert_out = torch.clamp(pert_out, 0, 1)\n",
        "    if torch.norm((pert_out-input),p=float('inf')) > epsilon:\n",
        "      break\n",
        "  return pert_out"
      ]
    },
    {
      "cell_type": "code",
      "execution_count": null,
      "metadata": {
        "id": "LS-pFNyvTiWL"
      },
      "outputs": [],
      "source": [
        "def test(model,device,test_loader,epsilon,attack):\n",
        "  correct = 0\n",
        "  adv_examples = []\n",
        "  for data, target in test_loader:\n",
        "      print(\"----------------\",data.shape , target.shape)\n",
        "      data, target = data.to(device), target.to(device)\n",
        "      data.requires_grad = True\n",
        "      output = model(data)\n",
        "      init_pred = output.max(1, keepdim=True)[1]\n",
        "      if init_pred.item() != target.item():\n",
        "          continue\n",
        "      loss = F.nll_loss(output, target)\n",
        "      model.zero_grad()\n",
        "      loss.backward()\n",
        "      data_grad = data.grad.data\n",
        "\n",
        "      if attack == \"fgsm\":\n",
        "        perturbed_data = fgsm_attack(data,epsilon,data_grad)\n",
        "      elif attack == \"ifgsm\":\n",
        "        perturbed_data = ifgsm_attack(data,epsilon,data_grad)\n",
        "      elif attack == \"mifgsm\":\n",
        "        perturbed_data = mifgsm_attack(data,epsilon,data_grad)\n",
        "\n",
        "      output = model(perturbed_data)\n",
        "      final_pred = output.max(1, keepdim=True)[1]\n",
        "      if final_pred.item() == target.item():\n",
        "          correct += 1\n",
        "          if (epsilon == 0) and (len(adv_examples) < 5):\n",
        "              adv_ex = perturbed_data.squeeze().detach().cpu().numpy()\n",
        "              adv_examples.append( (init_pred.item(), final_pred.item(), adv_ex) )\n",
        "      else:\n",
        "          if len(adv_examples) < 5:\n",
        "              adv_ex = perturbed_data.squeeze().detach().cpu().numpy()\n",
        "              adv_examples.append( (init_pred.item(), final_pred.item(), adv_ex) )\n",
        "\n",
        "  final_acc = correct/float(len(test_loader))\n",
        "  print(\"Epsilon: {}\\tTest Accuracy = {} / {} = {}\".format(epsilon, correct, len(test_loader), final_acc))\n",
        "\n",
        "  return final_acc, adv_examples"
      ]
    },
    {
      "cell_type": "code",
      "execution_count": null,
      "metadata": {
        "id": "W13KOwnDTjI6"
      },
      "outputs": [],
      "source": [
        "epsilons = [0,0.007,0.01,0.02,0.03,0.05,0.1,0.2,0.3]\n",
        "for attack in (\"fgsm\",\"ifgsm\",\"mifgsm\"):\n",
        "  accuracies = []\n",
        "  examples = []\n",
        "  for eps in epsilons:\n",
        "      acc, ex = test(model, device,test_loader,eps,attack)\n",
        "      accuracies.append(acc)\n",
        "      examples.append(ex)\n",
        "  plt.figure(figsize=(5,5))\n",
        "  plt.plot(epsilons, accuracies, \"*-\")\n",
        "  plt.title(attack)\n",
        "  plt.xlabel(\"Epsilon\")\n",
        "  plt.ylabel(\"Accuracy\")\n",
        "  plt.show()\n",
        "\n",
        "  cnt = 0\n",
        "  plt.figure(figsize=(8,10))\n",
        "  for i in range(len(epsilons)):\n",
        "      for j in range(len(examples[i])):\n",
        "          cnt += 1\n",
        "          plt.subplot(len(epsilons),len(examples[0]),cnt)\n",
        "          plt.xticks([], [])\n",
        "          plt.yticks([], [])\n",
        "          if j == 0:\n",
        "              plt.ylabel(\"Eps: {}\".format(epsilons[i]), fontsize=14)\n",
        "          orig,adv,ex = examples[i][j]\n",
        "          plt.title(\"{} -> {}\".format(orig, adv))\n",
        "          plt.imshow(ex, cmap=\"gray\")\n",
        "  plt.tight_layout()\n",
        "  plt.show()"
      ]
    }
  ],
  "metadata": {
    "accelerator": "GPU",
    "colab": {
      "provenance": [],
      "collapsed_sections": [
        "-3hHz4p8L68u",
        "vnqvT56eH8RC"
      ]
    },
    "kernelspec": {
      "display_name": "Python 3",
      "name": "python3"
    },
    "language_info": {
      "name": "python"
    }
  },
  "nbformat": 4,
  "nbformat_minor": 0
}